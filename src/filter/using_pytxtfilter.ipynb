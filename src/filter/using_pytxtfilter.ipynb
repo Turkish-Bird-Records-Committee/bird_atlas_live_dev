{
 "cells": [
  {
   "cell_type": "markdown",
   "metadata": {},
   "source": [
    "# How to use the pytxtfilter.py\n",
    "\n",
    "This notebook aims to provide a simple introduction to the `pytxtfilter.py` module. This module provides tools to filter delimited text files **while** reading to reduce the memory requirements. Typical usage includes reading a very big table of which a relatively small subset of the data will need to be kept for further analysis. This module was developed the ebird EBD files in mind, but is flexible and can be applied to any kind of delimited text file."
   ]
  },
  {
   "cell_type": "markdown",
   "metadata": {},
   "source": [
    "## Simple usage"
   ]
  },
  {
   "cell_type": "code",
   "execution_count": 1,
   "metadata": {},
   "outputs": [],
   "source": [
    "import pytxtfilter as tf"
   ]
  },
  {
   "cell_type": "markdown",
   "metadata": {},
   "source": [
    "The main class of this module is `DelimTxt` which is a wrapper to the `csv` module. In addition to `csv.reader`'s arguments it has one positional and one named arguments: `name` and `has_header`. All other arguments are passed to `csv.reader`. Main difference is that `DelimTxt` does not expect a filename/handler. It first collects necessary information about the format of the files and filtering them. For a simple csv file with header:"
   ]
  },
  {
   "cell_type": "code",
   "execution_count": 2,
   "metadata": {},
   "outputs": [],
   "source": [
    "quakes = tf.DelimTxt(\"quakes dataset\", has_header=True)"
   ]
  },
  {
   "cell_type": "markdown",
   "metadata": {},
   "source": [
    "Filters are then defined on columns they will be applied. We will be working with files formatted similary to the `quakes` dataset of R - more info [https://stat.ethz.ch/R-manual/R-devel/library/datasets/html/quakes.html]:\n",
    "\n",
    "    [,1] lat       numeric\tLatitude of event\n",
    "    [,2] long      numeric\tLongitude\n",
    "    [,3] depth     numeric\tDepth (km)\n",
    "    [,4] mag       numeric\tRichter Magnitude\n",
    "    [,5] stations  numeric\tNumber of stations reporting\n",
    "\n",
    "\n",
    "Let's build a filter on magnitude, \"mag\", column: "
   ]
  },
  {
   "cell_type": "code",
   "execution_count": 3,
   "metadata": {},
   "outputs": [],
   "source": [
    "magnitude_filter = quakes.create_filter_template(\"magnitude\", \"mag\", float)\n",
    "magnitude_filter.add_comparison(\">=\", 4.8)"
   ]
  },
  {
   "cell_type": "markdown",
   "metadata": {},
   "source": [
    "This will create a filter, \"magnitude\", which will act on the \"mag\" column and expects a `float`. We also created a comparison criteria, equal to or greater than 4.8."
   ]
  },
  {
   "cell_type": "code",
   "execution_count": 4,
   "metadata": {},
   "outputs": [],
   "source": [
    "magnitude_filter.add_comparison(\"<\")"
   ]
  },
  {
   "cell_type": "markdown",
   "metadata": {},
   "source": [
    "The seconod comparison we added did not have a value - it only defined 'smaller than'. The value will need to be given when the filter is used."
   ]
  },
  {
   "cell_type": "markdown",
   "metadata": {},
   "source": [
    "Filters are only templates at first. To use a filter, `use_filter` needs to be called, and any missing comparison values need to be given. To use the \"magnitude\" to select only values that are >= 4.8 and < 5.5, we need:"
   ]
  },
  {
   "cell_type": "code",
   "execution_count": 5,
   "metadata": {},
   "outputs": [],
   "source": [
    "quakes.use_filter(\"magnitude\", 5.5)"
   ]
  },
  {
   "cell_type": "code",
   "execution_count": 6,
   "metadata": {},
   "outputs": [
    {
     "name": "stdout",
     "output_type": "stream",
     "text": [
      "Filter 'magnitude':\n",
      "[1]: * >= 4.8\n",
      "[2]: * < 5.5\n",
      "On column: 'mag'\n"
     ]
    }
   ],
   "source": [
    "quakes.print_filter(\"magnitude\")"
   ]
  },
  {
   "cell_type": "markdown",
   "metadata": {},
   "source": [
    "Let's create a second filter, on \"depth\":"
   ]
  },
  {
   "cell_type": "code",
   "execution_count": 7,
   "metadata": {},
   "outputs": [],
   "source": [
    "depth_filter = quakes.create_filter_template(\"depth\", \"depth\", int)\n",
    "depth_filter.add_comparison(\">=\")\n",
    "depth_filter.add_comparison(\"<=\")"
   ]
  },
  {
   "cell_type": "markdown",
   "metadata": {},
   "source": [
    "This time we have not supplied any values so both need to be supplied when the filter is used:"
   ]
  },
  {
   "cell_type": "code",
   "execution_count": 8,
   "metadata": {},
   "outputs": [],
   "source": [
    "quakes.use_filter(\"depth\", 60, 150)"
   ]
  },
  {
   "cell_type": "code",
   "execution_count": 9,
   "metadata": {},
   "outputs": [
    {
     "name": "stdout",
     "output_type": "stream",
     "text": [
      "== Filters in use ==\n",
      "1. Filter 'magnitude':\n",
      "[1]: * >= 4.8\n",
      "[2]: * < 5.5\n",
      "On column: 'mag'\n",
      "\n",
      "2. Filter 'depth':\n",
      "[1]: * >= 60\n",
      "[2]: * <= 150\n",
      "On column: 'depth'\n",
      "\n"
     ]
    }
   ],
   "source": [
    "quakes.print_filters()"
   ]
  },
  {
   "cell_type": "markdown",
   "metadata": {},
   "source": [
    "Finally, we can use our filters on a file by calling the `.process` method:"
   ]
  },
  {
   "cell_type": "code",
   "execution_count": 10,
   "metadata": {},
   "outputs": [
    {
     "name": "stdout",
     "output_type": "stream",
     "text": [
      ",lat,long,depth,mag,stations\r\n",
      "7,-11.7,166.1,82,4.8,43\r\n",
      "50,-18.97,185.25,129,5.1,73\r\n",
      "81,-34.02,180.21,75,5.2,65\r\n",
      "91,-15.48,167.53,128,5.1,61\r\n",
      "110,-36.95,177.81,146,5,35\r\n",
      "121,-14.65,166.97,82,4.8,28\r\n",
      "129,-27.72,181.7,94,4.8,59\r\n",
      "139,-25.2,182.6,149,4.9,31\r\n",
      "159,-20.9,169.84,93,4.9,31\r\n",
      "214,-20.47,185.68,93,5.4,85\r\n",
      "223,-22.43,184.48,65,4.9,48\r\n",
      "226,-13.65,166.66,71,4.9,52\r\n",
      "230,-22.34,171.52,106,5,43\r\n",
      "244,-18.2,183.68,107,4.8,52\r\n",
      "254,-22.5,170.4,106,4.9,38\r\n",
      "266,-26.17,184.2,65,4.9,37\r\n",
      "292,-13.34,166.2,67,4.8,18\r\n",
      "296,-16.4,185.86,148,5,47\r\n",
      "321,-14.82,167.32,123,4.8,28\r\n",
      "325,-12.49,166.36,74,4.9,55\r\n",
      "330,-11.41,166.24,83,5.3,55\r\n",
      "331,-19.1,183.87,61,5.3,42\r\n",
      "338,-27.19,182.18,69,5.4,68\r\n",
      "342,-27.38,181.7,80,4.8,13\r\n",
      "357,-22.19,171.4,150,5.1,49\r\n",
      "378,-15.36,186.66,112,5.1,57\r\n",
      "383,-25.5,182.82,124,5,25\r\n",
      "412,-22.24,184.56,99,4.8,57\r\n",
      "413,-20.07,169.14,66,4.8,37\r\n",
      "443,-17.97,168.52,146,4.8,33\r\n",
      "445,-22.55,183.81,82,5.1,68\r\n",
      "474,-10.79,166.06,142,5,40\r\n",
      "477,-37.93,177.47,65,5.4,65\r\n",
      "486,-23.58,183.4,94,5.2,79\r\n",
      "501,-16.51,187.1,62,4.9,46\r\n",
      "547,-11.54,166.18,89,5.4,80\r\n",
      "555,-23.44,184.6,63,4.8,27\r\n",
      "563,-30.69,182.1,62,4.9,25\r\n",
      "574,-20.41,186.51,63,5,28\r\n",
      "580,-27.28,183.4,70,5.1,54\r\n",
      "583,-11.25,166.36,130,5.1,55\r\n",
      "586,-16.62,186.74,82,4.8,51\r\n",
      "594,-12.72,166.28,70,4.8,47\r\n",
      "597,-12.84,166.78,150,4.9,35\r\n",
      "608,-21.57,185.62,66,4.9,38\r\n",
      "612,-22.75,170.99,67,4.8,35\r\n",
      "615,-15.65,186.26,64,5.1,54\r\n",
      "625,-22.37,171.5,116,4.9,38\r\n",
      "675,-15.34,167.1,128,5.3,18\r\n",
      "676,-24.97,182.85,137,4.8,40\r\n",
      "708,-17.74,186.78,104,5.1,71\r\n",
      "754,-20.64,169.66,89,4.9,42\r\n",
      "757,-17.1,185.9,127,5.4,75\r\n",
      "758,-21.13,185.6,85,5.3,86\r\n",
      "771,-20.24,185.1,86,5.1,61\r\n",
      "783,-24.04,184.85,70,5,48\r\n",
      "787,-14.12,166.64,63,5.3,69\r\n",
      "818,-16.21,186.52,111,4.8,30\r\n",
      "843,-25.42,182.65,102,5,36\r\n",
      "853,-15.18,167.23,71,5.2,59\r\n",
      "854,-18.78,186.72,68,4.8,48\r\n",
      "865,-12.01,166.66,99,4.8,36\r\n",
      "873,-11.02,167.01,62,4.9,36\r\n",
      "883,-12,166.2,94,5,31\r\n",
      "890,-38.28,177.1,100,5.4,71\r\n",
      "897,-21.29,185.8,69,4.9,74\r\n",
      "908,-21.53,170.52,129,5.2,30\r\n",
      "910,-28.05,182.39,117,5.1,43\r\n",
      "915,-10.96,165.97,76,4.9,64\r\n",
      "916,-21.52,169.75,61,5.1,40\r\n",
      "922,-20.56,184.41,138,5,82\r\n",
      "927,-14.86,167.32,137,4.9,22\r\n",
      "930,-14.1,166.01,69,4.8,29\r\n",
      "938,-22.41,183.99,128,5.2,72\r\n",
      "944,-23.6,183.99,118,5.4,88\r\n",
      "958,-20.88,184.95,82,4.9,50\r\n",
      "965,-22.04,183.95,109,5.4,61\r\n",
      "969,-15.86,166.98,60,4.8,25\r\n",
      "975,-23.3,184.68,102,4.9,27\r\n",
      "983,-28.22,183.6,75,4.9,49\r\n",
      "987,-22.33,171.66,125,5.2,51\r\n",
      "988,-22.7,170.3,69,4.8,27\r\n"
     ]
    }
   ],
   "source": [
    "quakes.process(\"../../data/notebook/quakes.csv\")"
   ]
  },
  {
   "cell_type": "markdown",
   "metadata": {},
   "source": [
    "## Use case: ebird EBD format"
   ]
  },
  {
   "cell_type": "markdown",
   "metadata": {},
   "source": [
    "ebird's EBD files are large tab delimited TSV files. Strings are not quoted. We can define an ebird object as following:"
   ]
  },
  {
   "cell_type": "code",
   "execution_count": 11,
   "metadata": {},
   "outputs": [],
   "source": [
    "import csv\n",
    "import pytxtfilter as tf\n",
    "\n",
    "ebird = tf.DelimTxt(\"ebird\", has_header=True, dialect=\"unix\",\n",
    "                    delimiter=\"\\t\", quoting=csv.QUOTE_NONE, escapechar='\\\\')"
   ]
  },
  {
   "cell_type": "markdown",
   "metadata": {},
   "source": [
    "Typically, we would need to filter the data against a set of bird species. Let's define a filter for this purpose:"
   ]
  },
  {
   "cell_type": "code",
   "execution_count": 12,
   "metadata": {},
   "outputs": [],
   "source": [
    "species = ebird.create_filter_template(\"species\", \"SCIENTIFIC NAME\", str)\n",
    "species.add_comparison(\"in\")"
   ]
  },
  {
   "cell_type": "markdown",
   "metadata": {},
   "source": [
    "The `in` operant will let us use a list of `str` as the comparison value and any row will pass if the \"SCIENTIFIC NAME\" is **in** this list.\n",
    "\n",
    "Another commonly used filter 'breeding'. Here a NULL or \"F\" value is considered as \"no breeding code\". A simple comparison would be **not in** against \\[NULL, F\\]. 'Not in' operation is not defined - we can define any operation using the `.define_operant` method:"
   ]
  },
  {
   "cell_type": "code",
   "execution_count": 13,
   "metadata": {},
   "outputs": [],
   "source": [
    "breeding = ebird.create_filter_template(\"breeding\", \"BREEDING BIRD ATLAS CODE\", str)\n",
    "breeding.define_operant(\"!in\", lambda x, y: x not in y)\n",
    "breeding.add_comparison(\"!in\", [\"\", \"F\"])"
   ]
  },
  {
   "cell_type": "markdown",
   "metadata": {},
   "source": [
    "Let's use these two filters:"
   ]
  },
  {
   "cell_type": "code",
   "execution_count": 14,
   "metadata": {},
   "outputs": [],
   "source": [
    "ebird.use_filter(\"species\", [\"Merops apiaster\", \"Halcyon smyrnensis\"])\n",
    "#                 [\"Vanellus spinosus\", \"Periparus ater\",\n",
    "#                  \"Tachybaptus ruficollis\", \"Sturnus vulgaris\"])\n",
    "ebird.use_filter(\"breeding\")"
   ]
  },
  {
   "cell_type": "code",
   "execution_count": 15,
   "metadata": {},
   "outputs": [
    {
     "name": "stdout",
     "output_type": "stream",
     "text": [
      "GLOBAL UNIQUE IDENTIFIER\tLAST EDITED DATE\tTAXONOMIC ORDER\tCATEGORY\tCOMMON NAME\tSCIENTIFIC NAME\tSUBSPECIES COMMON NAME\tSUBSPECIES SCIENTIFIC NAME\tOBSERVATION COUNT\tBREEDING BIRD ATLAS CODE\tBREEDING BIRD ATLAS CATEGORY\tAGE/SEX\tCOUNTRY\tCOUNTRY CODE\tSTATE\tSTATE CODE\tCOUNTY\tCOUNTY CODE\tIBA CODE\tBCR CODE\tUSFWS CODE\tATLAS BLOCK\tLOCALITY\tLOCALITY ID\tLOCALITY TYPE\tLATITUDE\tLONGITUDE\tOBSERVATION DATE\tTIME OBSERVATIONS STARTED\tOBSERVER ID\tSAMPLING EVENT IDENTIFIER\tPROTOCOL TYPE\tPROTOCOL CODE\tPROJECT CODE\tDURATION MINUTES\tEFFORT DISTANCE KM\tEFFORT AREA HA\tNUMBER OBSERVERS\tALL SPECIES REPORTED\tGROUP IDENTIFIER\tHAS MEDIA\tAPPROVED\tREVIEWED\tREASON\tTRIP COMMENTS\tSPECIES COMMENTS\t\n",
      "URN:CornellLabOfOrnithology:EBIRD:OBS673195471\t2018-11-04 09:20:42\t9474\tspecies\tWhite-throated Kingfisher\tHalcyon smyrnensis\t\t\t2\tP \tC3\t\tTurkey\tTR\tOsmaniye\tTR-80\t\t\t\t\t\t\tKirmitli Kus Cenneti--genel area\tL2435177\tH\t37.1812449\t36.1239910\t2016-04-19\t07:00:00\tobsr1135534\tS49665584\tTraveling\tP22\tEBIRD\t240\t10.000\t\t8\t1\tG3501844\t0\t1\t0\t\t\t\t\n",
      "URN:CornellLabOfOrnithology:EBIRD:OBS673174705\t2018-11-04 08:09:23\t9474\tspecies\tWhite-throated Kingfisher\tHalcyon smyrnensis\t\t\t2\tP \tC3\t\tTurkey\tTR\tOsmaniye\tTR-80\t\t\t\t\t\t\tKirmitli Kus Cenneti--genel area\tL2435177\tH\t37.1812449\t36.1239910\t2016-04-19\t07:00:00\tobsr1132795\tS49663900\tTraveling\tP22\tEBIRD\t240\t10.000\t\t8\t1\tG3501844\t0\t1\t0\t\t\t\t\n",
      "URN:CornellLabOfOrnithology:EBIRD:OBS664151974\t2018-10-07 02:03:22\t9474\tspecies\tWhite-throated Kingfisher\tHalcyon smyrnensis\t\t\t2\tP \tC3\t\tTurkey\tTR\tOsmaniye\tTR-80\t\t\t\t\t\t\tKirmitli Kus Cenneti--genel area\tL2435177\tH\t37.1812449\t36.1239910\t2016-04-19\t07:00:00\tobsr1115387\tS49006630\tTraveling\tP22\tEBIRD\t240\t10.000\t\t8\t1\tG3501844\t0\t1\t0\t\t\t\t\n",
      "URN:CornellLabOfOrnithology:EBIRD:OBS664151944\t2018-10-07 02:03:21\t9474\tspecies\tWhite-throated Kingfisher\tHalcyon smyrnensis\t\t\t2\tP \tC3\t\tTurkey\tTR\tOsmaniye\tTR-80\t\t\t\t\t\t\tKirmitli Kus Cenneti--genel area\tL2435177\tH\t37.1812449\t36.1239910\t2016-04-19\t07:00:00\tobsr1158890\tS49006629\tTraveling\tP22\tEBIRD\t240\t10.000\t\t8\t1\tG3501844\t0\t1\t0\t\t\t\t\n",
      "URN:CornellLabOfOrnithology:EBIRD:OBS673197858\t2018-11-04 09:26:14\t9474\tspecies\tWhite-throated Kingfisher\tHalcyon smyrnensis\t\t\t2\tP \tC3\t\tTurkey\tTR\tOsmaniye\tTR-80\t\t\t\t\t\t\tKirmitli Kus Cenneti--genel area\tL2435177\tH\t37.1812449\t36.1239910\t2016-04-19\t07:00:00\tobsr1133356\tS49665721\tTraveling\tP22\tEBIRD\t240\t10.000\t\t8\t1\tG3501844\t0\t1\t0\t\t\t\t\n",
      "URN:CornellLabOfOrnithology:EBIRD:OBS664151848\t2018-10-07 02:03:21\t9474\tspecies\tWhite-throated Kingfisher\tHalcyon smyrnensis\t\t\t2\tP \tC3\t\tTurkey\tTR\tOsmaniye\tTR-80\t\t\t\t\t\t\tKirmitli Kus Cenneti--genel area\tL2435177\tH\t37.1812449\t36.1239910\t2016-04-19\t07:00:00\tobsr1158837\tS49006625\tTraveling\tP22\tEBIRD\t240\t10.000\t\t8\t1\tG3501844\t0\t1\t0\t\t\t\t\n",
      "URN:CornellLabOfOrnithology:EBIRD:OBS514832232\t2017-06-29 08:54:31\t9474\tspecies\tWhite-throated Kingfisher\tHalcyon smyrnensis\t\t\t1\tF \tC1\t\tTurkey\tTR\tOsmaniye\tTR-80\t\t\t\t\t\t\tTR - Osmaniye - Kesmeburun - 37.1638 x 36.1835\tL5777125\tP\t37.1638090\t36.1835150\t2017-04-30\t13:00:00\tobsr758505\tS37864950\tStationary\tP21\tEBIRD_TUR\t60\t\t\t6\t1\tG2381271\t0\t1\t0\t\tKuş Atlası 37SBB41\t\t\n",
      "URN:CornellLabOfOrnithology:EBIRD:OBS493523243\t2017-05-02 16:49:21\t9474\tspecies\tWhite-throated Kingfisher\tHalcyon smyrnensis\t\t\t1\tF \tC1\t\tTurkey\tTR\tOsmaniye\tTR-80\t\t\t\t\t\t\tTR - Osmaniye - Kesmeburun - 37.1638 x 36.1835\tL5777125\tP\t37.1638090\t36.1835150\t2017-04-30\t13:00:00\tobsr629105\tS36489015\tStationary\tP21\tEBIRD_TUR\t60\t\t\t6\t1\tG2381271\t0\t1\t0\t\tKuş Atlası 37SBB41\t\t\n",
      "URN:CornellLabOfOrnithology:EBIRD:OBS511704075\t2017-06-17 01:57:11\t9777\tspecies\tEuropean Bee-eater\tMerops apiaster\t\t\t2\tON\tC4\t\tTurkey\tTR\tOsmaniye\tTR-80\t\t\t\t\t\t\tTR-Osmaniye-Sakarcalık Köyü - 37,181x36,089 - 17 Haz 2017 08:17\tL5984179\tP\t37.1806944\t36.0888808\t2017-06-17\t08:17:00\tobsr645598\tS37635987\tTraveling\tP22\tEBIRD\t120\t4.828\t\t1\t1\t\t0\t1\t0\t\t\t\t\n",
      "URN:CornellLabOfOrnithology:EBIRD:OBS641483573\t2018-08-05 18:07:17\t9777\tspecies\tEuropean Bee-eater\tMerops apiaster\t\t\t20\tH \tC2\t\tTurkey\tTR\tOsmaniye\tTR-80\t\t\t\t\t\t\tKirmitli Kus Cenneti--genel area\tL2435177\tH\t37.1812449\t36.1239910\t2018-07-21\t06:30:00\tobsr1135534\tS47324320\tTraveling\tP22\tEBIRD\t195\t25.000\t\t5\t1\tG3354821\t0\t1\t0\t\t\t\t\n",
      "URN:CornellLabOfOrnithology:EBIRD:OBS641483693\t2018-08-05 18:07:17\t9777\tspecies\tEuropean Bee-eater\tMerops apiaster\t\t\t20\tH \tC2\t\tTurkey\tTR\tOsmaniye\tTR-80\t\t\t\t\t\t\tKirmitli Kus Cenneti--genel area\tL2435177\tH\t37.1812449\t36.1239910\t2018-07-21\t06:30:00\tobsr1132795\tS47324322\tTraveling\tP22\tEBIRD\t195\t25.000\t\t5\t1\tG3354821\t0\t1\t0\t\t\t\t\n",
      "URN:CornellLabOfOrnithology:EBIRD:OBS641483753\t2018-08-05 18:07:17\t9777\tspecies\tEuropean Bee-eater\tMerops apiaster\t\t\t20\tH \tC2\t\tTurkey\tTR\tOsmaniye\tTR-80\t\t\t\t\t\t\tKirmitli Kus Cenneti--genel area\tL2435177\tH\t37.1812449\t36.1239910\t2018-07-21\t06:30:00\tobsr1133356\tS47324323\tTraveling\tP22\tEBIRD\t195\t25.000\t\t5\t1\tG3354821\t0\t1\t0\t\t\t\t\n",
      "URN:CornellLabOfOrnithology:EBIRD:OBS641483633\t2018-08-05 18:07:17\t9777\tspecies\tEuropean Bee-eater\tMerops apiaster\t\t\t20\tH \tC2\t\tTurkey\tTR\tOsmaniye\tTR-80\t\t\t\t\t\t\tKirmitli Kus Cenneti--genel area\tL2435177\tH\t37.1812449\t36.1239910\t2018-07-21\t06:30:00\tobsr1135478\tS47324321\tTraveling\tP22\tEBIRD\t195\t25.000\t\t5\t1\tG3354821\t0\t1\t0\t\t\t\t\n",
      "URN:CornellLabOfOrnithology:EBIRD:OBS944046803\t2020-06-17 02:15:25\t9777\tspecies\tEuropean Bee-eater\tMerops apiaster\t\t\tX\tC \tC3\t\tTurkey\tTR\tOsmaniye\tTR-80\t\t\t\t\t\t\tUnnamed Road, Kesmeburun, Osmaniye, TR (37,154, 36,175)\tL11713487\tP\t37.1538536\t36.1750992\t2020-06-13\t06:30:00\tobsr645598\tS70524461\tTraveling\tP22\tEBIRD\t4\t3.000\t\t1\t1\t\t0\t1\t0\t\t\t\t\n"
     ]
    }
   ],
   "source": [
    "ebird.process(\"../../data/ebd-test/ebd_TR_sample.txt\")"
   ]
  },
  {
   "cell_type": "markdown",
   "metadata": {},
   "source": [
    "Let's create a third filter on \"date\" column, which is the 28th column:"
   ]
  },
  {
   "cell_type": "code",
   "execution_count": 16,
   "metadata": {},
   "outputs": [],
   "source": [
    "date = ebird.create_filter_template(\"date\", 28, str)\n",
    "date.add_comparison(\">=\")\n",
    "date.add_comparison(\"<=\")"
   ]
  },
  {
   "cell_type": "code",
   "execution_count": 17,
   "metadata": {},
   "outputs": [
    {
     "name": "stdout",
     "output_type": "stream",
     "text": [
      "GLOBAL UNIQUE IDENTIFIER\tLAST EDITED DATE\tTAXONOMIC ORDER\tCATEGORY\tCOMMON NAME\tSCIENTIFIC NAME\tSUBSPECIES COMMON NAME\tSUBSPECIES SCIENTIFIC NAME\tOBSERVATION COUNT\tBREEDING BIRD ATLAS CODE\tBREEDING BIRD ATLAS CATEGORY\tAGE/SEX\tCOUNTRY\tCOUNTRY CODE\tSTATE\tSTATE CODE\tCOUNTY\tCOUNTY CODE\tIBA CODE\tBCR CODE\tUSFWS CODE\tATLAS BLOCK\tLOCALITY\tLOCALITY ID\tLOCALITY TYPE\tLATITUDE\tLONGITUDE\tOBSERVATION DATE\tTIME OBSERVATIONS STARTED\tOBSERVER ID\tSAMPLING EVENT IDENTIFIER\tPROTOCOL TYPE\tPROTOCOL CODE\tPROJECT CODE\tDURATION MINUTES\tEFFORT DISTANCE KM\tEFFORT AREA HA\tNUMBER OBSERVERS\tALL SPECIES REPORTED\tGROUP IDENTIFIER\tHAS MEDIA\tAPPROVED\tREVIEWED\tREASON\tTRIP COMMENTS\tSPECIES COMMENTS\t\n",
      "URN:CornellLabOfOrnithology:EBIRD:OBS514832232\t2017-06-29 08:54:31\t9474\tspecies\tWhite-throated Kingfisher\tHalcyon smyrnensis\t\t\t1\tF \tC1\t\tTurkey\tTR\tOsmaniye\tTR-80\t\t\t\t\t\t\tTR - Osmaniye - Kesmeburun - 37.1638 x 36.1835\tL5777125\tP\t37.1638090\t36.1835150\t2017-04-30\t13:00:00\tobsr758505\tS37864950\tStationary\tP21\tEBIRD_TUR\t60\t\t\t6\t1\tG2381271\t0\t1\t0\t\tKuş Atlası 37SBB41\t\t\n",
      "URN:CornellLabOfOrnithology:EBIRD:OBS493523243\t2017-05-02 16:49:21\t9474\tspecies\tWhite-throated Kingfisher\tHalcyon smyrnensis\t\t\t1\tF \tC1\t\tTurkey\tTR\tOsmaniye\tTR-80\t\t\t\t\t\t\tTR - Osmaniye - Kesmeburun - 37.1638 x 36.1835\tL5777125\tP\t37.1638090\t36.1835150\t2017-04-30\t13:00:00\tobsr629105\tS36489015\tStationary\tP21\tEBIRD_TUR\t60\t\t\t6\t1\tG2381271\t0\t1\t0\t\tKuş Atlası 37SBB41\t\t\n",
      "URN:CornellLabOfOrnithology:EBIRD:OBS511704075\t2017-06-17 01:57:11\t9777\tspecies\tEuropean Bee-eater\tMerops apiaster\t\t\t2\tON\tC4\t\tTurkey\tTR\tOsmaniye\tTR-80\t\t\t\t\t\t\tTR-Osmaniye-Sakarcalık Köyü - 37,181x36,089 - 17 Haz 2017 08:17\tL5984179\tP\t37.1806944\t36.0888808\t2017-06-17\t08:17:00\tobsr645598\tS37635987\tTraveling\tP22\tEBIRD\t120\t4.828\t\t1\t1\t\t0\t1\t0\t\t\t\t\n"
     ]
    }
   ],
   "source": [
    "ebird.use_filter(\"date\", \"2017-03-01\", \"2018-03-01\")\n",
    "ebird.process(\"../../data/ebd-test/ebd_TR_sample.txt\")"
   ]
  },
  {
   "cell_type": "code",
   "execution_count": 18,
   "metadata": {},
   "outputs": [
    {
     "name": "stdout",
     "output_type": "stream",
     "text": [
      "== Filters in use ==\n",
      "1. Filter 'species':\n",
      "[1]: * in ['Merops apiaster', 'Halcyon smyrnensis']\n",
      "On column: 'SCIENTIFIC NAME'\n",
      "\n",
      "2. Filter 'breeding':\n",
      "[1]: * !in ['', 'F']\n",
      "On column: 'BREEDING BIRD ATLAS CODE'\n",
      "\n",
      "3. Filter 'date':\n",
      "[1]: * >= 2017-03-01\n",
      "[2]: * <= 2018-03-01\n",
      "On column: 28\n",
      "\n"
     ]
    }
   ],
   "source": [
    "ebird.print_filters()"
   ]
  },
  {
   "cell_type": "code",
   "execution_count": null,
   "metadata": {},
   "outputs": [],
   "source": []
  }
 ],
 "metadata": {
  "kernelspec": {
   "display_name": "Python 3",
   "language": "python",
   "name": "python3"
  },
  "language_info": {
   "codemirror_mode": {
    "name": "ipython",
    "version": 3
   },
   "file_extension": ".py",
   "mimetype": "text/x-python",
   "name": "python",
   "nbconvert_exporter": "python",
   "pygments_lexer": "ipython3",
   "version": "3.8.5"
  }
 },
 "nbformat": 4,
 "nbformat_minor": 2
}
